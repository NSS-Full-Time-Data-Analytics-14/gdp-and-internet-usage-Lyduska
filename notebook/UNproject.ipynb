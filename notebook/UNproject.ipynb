{
 "cells": [
  {
   "cell_type": "code",
   "execution_count": null,
   "id": "300d2fad-9728-4651-aa67-a0f4a636fc74",
   "metadata": {},
   "outputs": [],
   "source": [
    "import pandas as pd\n",
    "import matplotlib.pyplot as plt\n",
    "import seaborn as sns\n",
    "import numpy as np\n",
    "\n",
    "%matplotlib inline"
   ]
  },
  {
   "cell_type": "code",
   "execution_count": null,
   "id": "dc86c056-752c-4198-a4e0-ebc60b501c7c",
   "metadata": {},
   "outputs": [],
   "source": [
    "gdp_df=pd.read_csv('../data/gdp_percapita.csv')\n"
   ]
  },
  {
   "cell_type": "markdown",
   "id": "535f4477-6417-4920-b8f4-8837215117af",
   "metadata": {},
   "source": [
    "gdp_df.head()"
   ]
  },
  {
   "cell_type": "code",
   "execution_count": null,
   "id": "30130e18-cc53-4dbf-b215-b6774832b503",
   "metadata": {},
   "outputs": [],
   "source": [
    "gdp_df.tail(2)"
   ]
  },
  {
   "cell_type": "markdown",
   "id": "bf6efbf7-6885-44be-afd5-d70d85bade1c",
   "metadata": {},
   "source": [
    "5 How many rows and columns are in `gdp_df`? What are the data types of each column?"
   ]
  },
  {
   "cell_type": "code",
   "execution_count": null,
   "id": "1aab7749-9662-467e-9c2f-902d3d12bf2c",
   "metadata": {},
   "outputs": [],
   "source": [
    "gdp_df.shape"
   ]
  },
  {
   "cell_type": "code",
   "execution_count": null,
   "id": "966b67cc-b0d4-48b4-b96b-877461681c2a",
   "metadata": {},
   "outputs": [],
   "source": [
    "gdp_df.dtypes"
   ]
  },
  {
   "cell_type": "markdown",
   "id": "b92fc741-d689-4486-8909-55220213f603",
   "metadata": {},
   "source": [
    "6 Drop the `Value Footnotes` column and rename the remaining three to 'Country', 'Year', and 'GDP_Per_Capita'"
   ]
  },
  {
   "cell_type": "code",
   "execution_count": null,
   "id": "613bf88e-47de-4ed4-813c-5d10a57c3a1c",
   "metadata": {},
   "outputs": [],
   "source": [
    "gdp_df=gdp_df.drop(columns=['Value Footnotes']) \n",
    "gdp_df.columns\n"
   ]
  },
  {
   "cell_type": "code",
   "execution_count": null,
   "id": "25f26378-299f-4074-bb80-de9b946c9446",
   "metadata": {},
   "outputs": [],
   "source": [
    "gdp_df=gdp_df.rename(columns={'Country or Area':'Country', 'Year':'Year','Value':'GDP_Per_Capita'})\n",
    "gdp_df.columns\n",
    "\n"
   ]
  },
  {
   "cell_type": "markdown",
   "id": "8a62fa72-4c54-4301-b0c3-86558b3a614e",
   "metadata": {},
   "source": [
    "7. a) How many countries have data for all years?\n",
    " b)Which countries are missing many years of data? Look at the number of observations per year. What do you notice?\n",
    " Answer below: 40 do not have years for all the years"
   ]
  },
  {
   "cell_type": "code",
   "execution_count": null,
   "id": "88a68f1e-feba-4614-abff-8592db72ab45",
   "metadata": {},
   "outputs": [],
   "source": [
    "country_counts=gdp_df.Country.value_counts().to_frame().reset_index()"
   ]
  },
  {
   "cell_type": "code",
   "execution_count": null,
   "id": "23a173ce-31a1-4a29-b8f2-28f720b58cdb",
   "metadata": {},
   "outputs": [],
   "source": [
    "country_counts"
   ]
  },
  {
   "cell_type": "code",
   "execution_count": null,
   "id": "4070ae09-bad1-4dd5-84e4-645fc4afce39",
   "metadata": {},
   "outputs": [],
   "source": [
    "country_counts=country_counts.rename(columns={\"count\":\"Count\"}) "
   ]
  },
  {
   "cell_type": "code",
   "execution_count": null,
   "id": "4485737b-5125-47c2-a70e-83712b7ea533",
   "metadata": {},
   "outputs": [],
   "source": [
    "country_counts.head()"
   ]
  },
  {
   "cell_type": "code",
   "execution_count": null,
   "id": "4eb5e7f8-1c0c-4b79-8849-c10e569bf61a",
   "metadata": {},
   "outputs": [],
   "source": [
    "pd.set_option('display.max_rows',None)\n"
   ]
  },
  {
   "cell_type": "code",
   "execution_count": null,
   "id": "54f890d3-c73a-4d08-83c6-37746bfe9720",
   "metadata": {},
   "outputs": [],
   "source": [
    "len(country_counts)"
   ]
  },
  {
   "cell_type": "code",
   "execution_count": null,
   "id": "d841b599-3b69-411e-b52a-730205c3d3ce",
   "metadata": {},
   "outputs": [],
   "source": [
    "len(country_counts.loc[country_counts.Count== 33])"
   ]
  },
  {
   "cell_type": "code",
   "execution_count": null,
   "id": "9b74306f-84d0-4544-9388-fcb3ef253344",
   "metadata": {},
   "outputs": [],
   "source": [
    "##pd.set_option('display.max_columns', None)"
   ]
  },
  {
   "cell_type": "markdown",
   "id": "ef34e2eb-d14d-4741-a6d1-c0a7f9ac75ba",
   "metadata": {},
   "source": [
    "8. In this question, you're going to create some plots to show the distribution of GDP per capita for the year 2020.\n",
    "Go to the Python Graph Gallery (https://www.python-graph-gallery.com/) and look at the different types of plots under the Distribution section.\n",
    "Create a histogram, a density plot, a boxplot, and a violin plot. What do you notice when you look at these plots? How do the plots compare and what information can you get out of one type that you can't necessarily get out of the others?"
   ]
  },
  {
   "cell_type": "code",
   "execution_count": null,
   "id": "1cbfdf38-1ca2-4fcf-b3e1-5a2dec5f7a68",
   "metadata": {},
   "outputs": [],
   "source": [
    "count_year=gdp_df.Year.value_counts().to_frame().reset_index()\n",
    "count_year"
   ]
  },
  {
   "cell_type": "code",
   "execution_count": null,
   "id": "4dc9604c-6730-4815-90a1-8167416ce160",
   "metadata": {},
   "outputs": [],
   "source": [
    "count_year.columns=[\"Year\",\"Count\"]\n",
    "count_year"
   ]
  },
  {
   "cell_type": "code",
   "execution_count": null,
   "id": "6c02ef2d-fd4a-42d0-aaf6-1c7e8efdd6d3",
   "metadata": {},
   "outputs": [],
   "source": [
    "count_year.sort_values('Year').plot(x='Year')"
   ]
  },
  {
   "cell_type": "code",
   "execution_count": null,
   "id": "f149c493-dde9-4885-b98f-9c38f1d23498",
   "metadata": {},
   "outputs": [],
   "source": [
    "gdp_2020=gdp_df.loc[gdp_df.Year==2020]\n",
    "gdp_2020"
   ]
  },
  {
   "cell_type": "code",
   "execution_count": null,
   "id": "d9ca4bb7-4231-46df-b6cb-d70d087a7735",
   "metadata": {},
   "outputs": [],
   "source": [
    "gdp_2020.hist('GDP_Per_Capita')"
   ]
  },
  {
   "cell_type": "code",
   "execution_count": null,
   "id": "4cbe9674-651c-444c-a8b9-1342d1d84536",
   "metadata": {},
   "outputs": [],
   "source": [
    "gdp_2020.boxplot('GDP_Per_Capita')"
   ]
  },
  {
   "cell_type": "code",
   "execution_count": null,
   "id": "dd5405ba-4c63-4869-86e6-005444a467ce",
   "metadata": {},
   "outputs": [],
   "source": [
    "sns.violinplot(x='GDP_Per_Capita', data = gdp_2020)"
   ]
  },
  {
   "cell_type": "code",
   "execution_count": null,
   "id": "f34f3161-a8f0-44c0-a065-e862c423e029",
   "metadata": {},
   "outputs": [],
   "source": [
    "sns.kdeplot(x='GDP_Per_Capita', data =gdp_2020)"
   ]
  },
  {
   "cell_type": "code",
   "execution_count": null,
   "id": "8bbcd7dc-5b6e-49db-a780-93e2b97b9f52",
   "metadata": {},
   "outputs": [],
   "source": [
    "gdp_2020['GDP_Per_Capita'].hist(bins = 25, color = 'coral', edgecolor = 'black', figsize = (10,6))\n",
    "\n",
    "plt.title('The distribution of GDP per capita for the year 2020', fontsize = 16);"
   ]
  },
  {
   "cell_type": "code",
   "execution_count": null,
   "id": "0b6fd360-b40a-4b5b-b5c4-ded2d0e0e637",
   "metadata": {},
   "outputs": [],
   "source": [
    "sns.boxplot(data = gdp_2020, x = 'GDP_Per_Capita');"
   ]
  },
  {
   "cell_type": "code",
   "execution_count": null,
   "id": "87d20a70-f118-4ce3-baa0-6183cd0905b1",
   "metadata": {},
   "outputs": [],
   "source": [
    "plt.figure(figsize = (10,4))\n",
    "\n",
    "sns.boxplot(data = gdp_2020, x = 'GDP_Per_Capita');"
   ]
  },
  {
   "cell_type": "markdown",
   "id": "73f278d4-d325-405a-acbb-6c40fd0fbcf7",
   "metadata": {},
   "source": [
    "9 What was the median GDP per capita value in 2020?"
   ]
  },
  {
   "cell_type": "code",
   "execution_count": null,
   "id": "7903a342-0ac1-484e-abdd-0562b4277f75",
   "metadata": {},
   "outputs": [],
   "source": [
    "gdp_2020['GDP_Per_Capita'].median()"
   ]
  },
  {
   "cell_type": "markdown",
   "id": "90e9a534-8636-49b8-8ccd-7cb54df07f5a",
   "metadata": {},
   "source": [
    " 10 For this question, you're going to create some visualizations to compare GDP per capita values for the years 1990, 2000, 2010, and 2020. Start by subsetting your data to just these 4 years into a new DataFrame named gdp_decades. Using this, create the following 4 plots:\n",
    "* A boxplot\n",
    "* A barplot (check out the Barplot with Seaborn section: https://www.python-graph-gallery.com/barplot/#Seaborn)\n",
    "* A scatterplot\n",
    "* A scatterplot with a trend line overlaid (see this regplot example: https://www.python-graph-gallery.com/42-custom-linear-regression-fit-seaborn)  \n",
    "Comment on what you observe has happened to GDP values over time and the relative strengths and weaknesses of each type of plot.\n"
   ]
  },
  {
   "cell_type": "code",
   "execution_count": null,
   "id": "7753e7ef-a538-4251-a921-a2b7043bdccb",
   "metadata": {},
   "outputs": [],
   "source": [
    "# Subset the data for the years 1990, 2000, 2010, and 2020 (You don't need quotes around numbers, since it's a number not a text) \n",
    "gdp_decades=gdp_df[gdp_df['Year'].isin([1990, 2000, 2010, 2020])]\n",
    "gdp_decades"
   ]
  },
  {
   "cell_type": "code",
   "execution_count": null,
   "id": "6d6514aa-eff4-45bc-a9be-fdfbff544deb",
   "metadata": {},
   "outputs": [],
   "source": [
    "sns.boxplot(x = 'Year', y = 'GDP_Per_Capita', data = gdp_decades)"
   ]
  },
  {
   "cell_type": "code",
   "execution_count": null,
   "id": "504037d4-7abd-4ec8-a72e-a44a63993a7f",
   "metadata": {},
   "outputs": [],
   "source": [
    "sns.barplot(x = 'Year', y = 'GDP_Per_Capita', data = gdp_decades)"
   ]
  },
  {
   "cell_type": "code",
   "execution_count": null,
   "id": "29884d48-eae9-4d01-a5d8-86b137083864",
   "metadata": {},
   "outputs": [],
   "source": [
    "gdp_decades['GDP_Per_Capita'].hist(bins = 25, color = 'coral', edgecolor = 'black', figsize = (10,6))\n",
    "\n",
    "plt.title('The distribution of GDP per capita for the year 2020', fontsize = 16);"
   ]
  },
  {
   "cell_type": "code",
   "execution_count": null,
   "id": "41046d25-1874-46b1-8967-39f2b6c26dbc",
   "metadata": {},
   "outputs": [],
   "source": [
    "plt.figure(figsize = (10,4))\n",
    "\n",
    "sns.boxplot(data = gdp_decades , x = 'GDP_Per_Capita');"
   ]
  },
  {
   "cell_type": "code",
   "execution_count": null,
   "id": "61da95e9-c460-4123-8b6e-3a90d3d75763",
   "metadata": {},
   "outputs": [],
   "source": [
    "plt.figure(figsize=(10, 6))\n",
    "sns.scatterplot(x = 'Year', y = 'GDP_Per_Capita', data = gdp_decades, hue = 'Year', palette = 'viridis', s = 100)\n",
    "plt.title('Scatterplot of GDP per Capita (1990, 2000, 2010, 2020)', fontsize = 14, fontweight = 'bold')\n",
    "plt.xlabel('Year', fontsize = 12)\n",
    "plt.ylabel('GDP per Capita', fontsize = 12)\n",
    "plt.grid(True)\n",
    "plt.show()"
   ]
  },
  {
   "cell_type": "code",
   "execution_count": null,
   "id": "4d2dd538-90db-4af9-aaee-aa803b358ba4",
   "metadata": {},
   "outputs": [],
   "source": [
    "##(jitter - spreads it out)\n",
    "sns.regplot(x = 'Year', y = 'GDP_Per_Capita', data = gdp_decades,x_jitter = True)"
   ]
  },
  {
   "cell_type": "code",
   "execution_count": null,
   "id": "fabf8115-ca32-48ae-9869-cbebc20d1869",
   "metadata": {},
   "outputs": [],
   "source": [
    "sns.scatterplot(x = 'Year', y = 'GDP_Per_Capita', data = gdp_decades)"
   ]
  },
  {
   "cell_type": "markdown",
   "id": "580acef8-8d84-4902-a654-cbeb62be25c9",
   "metadata": {},
   "source": [
    "11 Which country was the first to have a GDP per capita greater than $100,000?"
   ]
  },
  {
   "cell_type": "code",
   "execution_count": null,
   "id": "b934ae81-c5c2-4999-a8b8-1302d9380e6a",
   "metadata": {},
   "outputs": [],
   "source": [
    "# Filter for GDP per capita greater than $100,000\n",
    "rich_countries = gdp_df.loc[gdp_df['GDP_Per_Capita'] > 100000]"
   ]
  },
  {
   "cell_type": "code",
   "execution_count": null,
   "id": "7788cd58-55ad-40cb-ba74-e8db57213159",
   "metadata": {},
   "outputs": [],
   "source": [
    "rich_countries.sort_values('Year').head(1).Country"
   ]
  },
  {
   "cell_type": "markdown",
   "id": "75170daa-3e00-4b3b-9617-72d85adc0701",
   "metadata": {},
   "source": [
    "12 Which country had the highest GDP per capita in 2020? \n",
    "Create a plot showing how this country's GDP per capita has changed over the timespan of the dataset."
   ]
  },
  {
   "cell_type": "code",
   "execution_count": null,
   "id": "8c6277d4-10f1-463d-adde-899c4bb77ce7",
   "metadata": {},
   "outputs": [],
   "source": [
    "#filter for year 2020\n",
    "richest_2020=gdp_2020.sort_values('GDP_Per_Capita',ascending=False).head(1).Country.to_list()"
   ]
  },
  {
   "cell_type": "code",
   "execution_count": null,
   "id": "1401839a-2f25-4106-ae8b-a73f339cae75",
   "metadata": {},
   "outputs": [],
   "source": [
    "richest_2020"
   ]
  },
  {
   "cell_type": "code",
   "execution_count": null,
   "id": "b0f9f614-7f56-4a01-beeb-38b30d119ab7",
   "metadata": {},
   "outputs": [],
   "source": [
    "gdp_2020.Country.isin(richest_2020)"
   ]
  },
  {
   "cell_type": "code",
   "execution_count": null,
   "id": "19c60f77-786e-4edc-87ec-5fe2a1aab404",
   "metadata": {},
   "outputs": [],
   "source": [
    "gdp_df.Country == richest_2020[0]"
   ]
  },
  {
   "cell_type": "code",
   "execution_count": null,
   "id": "39b008ba-513e-4c03-b47c-1f3daf834a10",
   "metadata": {},
   "outputs": [],
   "source": [
    "gdp_df.loc[gdp_df.Country == richest_2020[0]].plot(x='Year');"
   ]
  },
  {
   "cell_type": "code",
   "execution_count": null,
   "id": "d5461517-1046-4419-a5b8-dc6382742910",
   "metadata": {},
   "outputs": [],
   "source": [
    "## It's different way how to do this as well\n",
    "highest_gdp = gdp_2020.loc[gdp_2020['GDP_Per_Capita'].idxmax()]\n"
   ]
  },
  {
   "cell_type": "code",
   "execution_count": null,
   "id": "a433a82c-d46a-42be-bc91-bdaa8d4647c1",
   "metadata": {},
   "outputs": [],
   "source": [
    "print(highest_gdp)"
   ]
  },
  {
   "cell_type": "code",
   "execution_count": null,
   "id": "024a5fea-d657-4ae9-b7bb-d6a23f8a93cd",
   "metadata": {},
   "outputs": [],
   "source": [
    "highest_gdp_country = highest_gdp['Country']"
   ]
  },
  {
   "cell_type": "code",
   "execution_count": null,
   "id": "8a3315e1-83d7-4595-a099-f46ac0ed419f",
   "metadata": {},
   "outputs": [],
   "source": [
    "print(highest_gdp_country)"
   ]
  },
  {
   "cell_type": "code",
   "execution_count": null,
   "id": "2611a42a-d168-447e-bf97-a06f97e9329c",
   "metadata": {},
   "outputs": [],
   "source": [
    "country_gdp_over_time = gdp_df[gdp_df['Country'] == highest_gdp_country]"
   ]
  },
  {
   "cell_type": "code",
   "execution_count": null,
   "id": "81edd49a-26e3-4032-8bad-216da3d6c13b",
   "metadata": {},
   "outputs": [],
   "source": [
    "print(country_gdp_over_time)"
   ]
  },
  {
   "cell_type": "code",
   "execution_count": null,
   "id": "59234f9e-287a-4bc2-96c6-4ec1c72c7c79",
   "metadata": {},
   "outputs": [],
   "source": [
    "plt.figure(figsize=(10, 6))\n",
    "plt.plot(country_gdp_over_time['Year'], country_gdp_over_time['GDP_Per_Capita'], marker = 'o', color = 'b', linestyle = '-')\n",
    "plt.title(f'GDP per Capita of {highest_gdp_country} Over Time', fontsize = 14, fontweight='bold')\n",
    "plt.xlabel('Year', fontsize = 12)\n",
    "plt.ylabel('GDP per Capita (in USD)', fontsize = 12)\n",
    "plt.grid(True)\n",
    "plt.xticks(country_gdp_over_time['Year']); "
   ]
  },
  {
   "cell_type": "markdown",
   "id": "6069fb5c-1f08-4fc1-a400-efc688f31b35",
   "metadata": {},
   "source": [
    "Q13: Create a plot showing how this country's GDP per capita has changed over the timespan of the dataset.\n",
    "Bonus question: Is it true in general that coutries had a higher GDP per capita in 2020 than in 1990?\n",
    "Which countries had lower GDP per capita in 2020 than in 1990?"
   ]
  },
  {
   "cell_type": "code",
   "execution_count": null,
   "id": "1d407a02-aa76-4aec-8e79-490d152174d3",
   "metadata": {},
   "outputs": [],
   "source": [
    "lowest_gdp = gdp_2020.loc[gdp_2020['GDP_Per_Capita'].idxmin()]"
   ]
  },
  {
   "cell_type": "code",
   "execution_count": null,
   "id": "cf19623b-fc37-45b5-bc10-f570f9d4f178",
   "metadata": {},
   "outputs": [],
   "source": [
    "lowest_gdp_country = lowest_gdp['Country']"
   ]
  },
  {
   "cell_type": "code",
   "execution_count": null,
   "id": "fdb35071-ebe1-4b41-9c54-36948042f04c",
   "metadata": {},
   "outputs": [],
   "source": [
    "print(lowest_gdp_country)"
   ]
  },
  {
   "cell_type": "code",
   "execution_count": null,
   "id": "3fec4d60-f68d-49d5-a87b-a5d937361573",
   "metadata": {},
   "outputs": [],
   "source": [
    "print(lowest_gdp_country)"
   ]
  },
  {
   "cell_type": "code",
   "execution_count": null,
   "id": "8eb3746a-00a1-4b47-a219-cb7774ad5f1e",
   "metadata": {},
   "outputs": [],
   "source": [
    "country_gdp_over_time = gdp_df[gdp_df['Country'] == lowest_gdp_country]"
   ]
  },
  {
   "cell_type": "code",
   "execution_count": null,
   "id": "2af4f28f-fc29-4316-9afb-151fe7adea46",
   "metadata": {},
   "outputs": [],
   "source": [
    "print(country_gdp_over_time)"
   ]
  },
  {
   "cell_type": "code",
   "execution_count": null,
   "id": "5938f1f7-19df-42ed-9217-e64ab80a941f",
   "metadata": {},
   "outputs": [],
   "source": [
    "plt.figure(figsize=(10, 6))\n",
    "plt.plot(country_gdp_over_time['Year'], country_gdp_over_time['GDP_Per_Capita'], marker = 'o', color = 'b', linestyle = '-')\n",
    "plt.title(f'GDP per Capita of {lowest_gdp_country} Over Time', fontsize = 14, fontweight='bold')\n",
    "plt.xlabel('Year', fontsize = 12)\n",
    "plt.ylabel('GDP per Capita (in USD)', fontsize = 12)\n",
    "plt.grid(True)\n",
    "plt.xticks(country_gdp_over_time['Year']);"
   ]
  },
  {
   "cell_type": "code",
   "execution_count": null,
   "id": "08d950e0-7664-4be2-b023-3dbf48bc912a",
   "metadata": {},
   "outputs": [],
   "source": [
    "#Or another apporoach:\n",
    "poorest_2020=gdp_2020.sort_values('GDP_Per_Capita').head(1).Country\n",
    "poorest_2020"
   ]
  },
  {
   "cell_type": "code",
   "execution_count": null,
   "id": "8eca0c59-4133-4574-8e4c-81bab99db127",
   "metadata": {},
   "outputs": [],
   "source": [
    "gdp_df.loc[gdp_df.Country.isin(poorest_2020)].plot(x='Year');"
   ]
  },
  {
   "cell_type": "code",
   "execution_count": null,
   "id": "57a2e842-5b26-4995-9eb2-0d240cc3fbc4",
   "metadata": {},
   "outputs": [],
   "source": [
    "gdp_1990=gdp_df.loc[gdp_df.Year==1990]\n",
    "gdp_1990"
   ]
  },
  {
   "cell_type": "code",
   "execution_count": null,
   "id": "e7c9ae9e-a539-4c6b-855d-547596ed61d3",
   "metadata": {},
   "outputs": [],
   "source": [
    "gdp_2020"
   ]
  },
  {
   "cell_type": "markdown",
   "id": "1d58aa56-afd9-44f2-9572-70ddaf1c0b2f",
   "metadata": {},
   "source": [
    "Bonus question: Is it true in general that coutries had a higher GDP per capita in 2020 than in 1990?\n",
    "Which countries had lower GDP per capita in 2020 than in 1990?"
   ]
  },
  {
   "cell_type": "code",
   "execution_count": null,
   "id": "8b4c4b56-8ef2-4ead-9e8c-384a9e599262",
   "metadata": {},
   "outputs": [],
   "source": [
    "gdp_1990_and_2020=pd.merge(gdp_1990, gdp_2020, on='Country', how='inner')\n",
    "gdp_1990_and_2020"
   ]
  },
  {
   "cell_type": "code",
   "execution_count": null,
   "id": "2c699ee5-4a08-4b85-804c-a986c28ef75a",
   "metadata": {},
   "outputs": [],
   "source": [
    "gdp_1990_and_2020.loc[gdp_1990_and_2020.GDP_Per_Capita_x>gdp_1990_and_2020.GDP_Per_Capita_y]"
   ]
  },
  {
   "cell_type": "markdown",
   "id": "e1efd9e4-f061-4159-9b37-4b94de9666e7",
   "metadata": {},
   "source": [
    "Q14: 14. Read in the internet use dataset into a DataFrame named internet_df. You will likely get errors when doing this.\n",
    "Check the arguments for the read_csv function to find ones that can help correct the errors\n",
    "(https://pandas.pydata.org/docs/reference/api/pandas.read_csv.html) Once you are able to read it in,\n",
    "take per a look at the top and bottom few rows to make sure that it has been read in correctly.\n",
    "Also, check the datatypes of the columns.\n",
    "internet_df = pd.read_csv('../data/internet_use.csv')\n"
   ]
  },
  {
   "cell_type": "code",
   "execution_count": null,
   "id": "2376b150-1342-4705-ade2-63cb70fd66d4",
   "metadata": {},
   "outputs": [],
   "source": [
    "internet_df=pd.read_csv('../data/internet_use.csv',nrows = 6083)"
   ]
  },
  {
   "cell_type": "code",
   "execution_count": null,
   "id": "0dfadd44-d63c-47e9-a5a6-535522bcebc2",
   "metadata": {},
   "outputs": [],
   "source": [
    "print(internet_df)"
   ]
  },
  {
   "cell_type": "markdown",
   "id": "bb7cc481-b146-4e25-95c0-06438f74cacf",
   "metadata": {},
   "source": [
    "Q15 Drop the `Value Footnotes` column and rename the remaining three to 'Country', 'Year', and 'Internet_Users_Pct'.\n"
   ]
  },
  {
   "cell_type": "code",
   "execution_count": null,
   "id": "b546bd03-90ad-42d1-bfec-860377ca0396",
   "metadata": {},
   "outputs": [],
   "source": [
    "internet_df.info()"
   ]
  },
  {
   "cell_type": "code",
   "execution_count": null,
   "id": "77bb77ea-f65f-4d90-9fd8-ddb61f714bfb",
   "metadata": {},
   "outputs": [],
   "source": [
    "internet_df = internet_df.drop(columns = ['Value Footnotes'])"
   ]
  },
  {
   "cell_type": "code",
   "execution_count": null,
   "id": "63b2a7d2-7b02-4d93-a91d-32329d7a9773",
   "metadata": {},
   "outputs": [],
   "source": [
    "internet_df"
   ]
  },
  {
   "cell_type": "code",
   "execution_count": null,
   "id": "42f01704-db1e-45af-87e7-6f558754f439",
   "metadata": {},
   "outputs": [],
   "source": [
    "internet_df=internet_df.rename(columns={'Country or Area':'Country', 'Value':'Internet_Users_Pct'})\n",
    "internet_df"
   ]
  },
  {
   "cell_type": "markdown",
   "id": "ace3db5c-3343-40e2-b257-4941c9803232",
   "metadata": {},
   "source": [
    "Q16 :Look at the number of observations in this dataset per year. What do you notice?\n"
   ]
  },
  {
   "cell_type": "code",
   "execution_count": null,
   "id": "5e012997-77ff-4cc8-9ced-c75fb306658c",
   "metadata": {},
   "outputs": [],
   "source": [
    "##both lines are the same results for value counts\n",
    "internet_df.value_counts('Year')"
   ]
  },
  {
   "cell_type": "code",
   "execution_count": null,
   "id": "7774e5cb-69ae-4413-804b-81e251c35a33",
   "metadata": {},
   "outputs": [],
   "source": [
    "##both lines are the same results\n",
    "internet_df.Year.value_counts()"
   ]
  },
  {
   "cell_type": "code",
   "execution_count": null,
   "id": "62b48a4d-89cd-42e9-957b-c5f797cf3160",
   "metadata": {},
   "outputs": [],
   "source": [
    "internet_counts=internet_df.value_counts('Year').to_frame().reset_index()\n",
    "internet_counts"
   ]
  },
  {
   "cell_type": "code",
   "execution_count": null,
   "id": "e0eaa895-2dd6-4a12-93dd-267b11610c29",
   "metadata": {},
   "outputs": [],
   "source": [
    "internet_counts.columns=['Year', 'Count']\n",
    "internet_counts"
   ]
  },
  {
   "cell_type": "code",
   "execution_count": null,
   "id": "f201d036-d5dc-43bc-b1d6-e0be7c583924",
   "metadata": {},
   "outputs": [],
   "source": [
    "internet_counts.sort_values('Year').plot(x='Year', y='Count')"
   ]
  },
  {
   "cell_type": "code",
   "execution_count": null,
   "id": "47e494f7-7746-4023-ae7e-72be5ceb6828",
   "metadata": {},
   "outputs": [],
   "source": [
    "###As the years are progressing the Internet_Users_Pct started increasing."
   ]
  },
  {
   "cell_type": "markdown",
   "id": "71a089d9-064a-49c5-a49d-83814116fc7b",
   "metadata": {},
   "source": [
    "Q17:What is the first year to have a non-zero internet users percentage value?"
   ]
  },
  {
   "cell_type": "code",
   "execution_count": null,
   "id": "8a3ef306-6f07-4712-b60c-6d69479a56fb",
   "metadata": {},
   "outputs": [],
   "source": [
    "internet_df.loc[internet_df.Internet_Users_Pct>0].Year.min()"
   ]
  },
  {
   "cell_type": "markdown",
   "id": "990d57fb-e5db-4e54-b9e8-0a56d2efc2a5",
   "metadata": {},
   "source": [
    "Q18:How does the distribution of internet users percent differ for 2000 and 2014?"
   ]
  },
  {
   "cell_type": "code",
   "execution_count": null,
   "id": "b02176ec-1169-43bb-8b18-4e92e9987b95",
   "metadata": {},
   "outputs": [],
   "source": [
    "internet_2000_and_2014 = internet_df.loc[internet_df.Year.isin([2000,2014])]\n",
    "internet_2000_and_2014"
   ]
  },
  {
   "cell_type": "code",
   "execution_count": null,
   "id": "40d83adf-1f91-457a-9efe-22f8d8556e08",
   "metadata": {},
   "outputs": [],
   "source": [
    "sns.boxplot(x='Year', y='Internet_Users_Pct', data = internet_2000_and_2014)"
   ]
  },
  {
   "cell_type": "code",
   "execution_count": null,
   "id": "06918093-efd6-4cfe-992e-f1450613ad7e",
   "metadata": {},
   "outputs": [],
   "source": [
    "sns.boxplot(x=internet_2000_and_2014.Year, y=internet_2000_and_2014.Internet_Users_Pct)"
   ]
  },
  {
   "cell_type": "markdown",
   "id": "e86d0e9c-eae5-4ee0-b72b-e881091d4ac8",
   "metadata": {},
   "source": [
    "19. For how many countries was the percentage of internet users below 5% in 2014?"
   ]
  },
  {
   "cell_type": "code",
   "execution_count": null,
   "id": "407bcd17-b731-46f5-8ad2-7f2511e1a31b",
   "metadata": {},
   "outputs": [],
   "source": [
    "internet_df.loc[(internet_df.Year == 2014) & (internet_df.Internet_Users_Pct<5)]"
   ]
  },
  {
   "cell_type": "code",
   "execution_count": null,
   "id": "26dcd909-5273-4283-a806-a21cf034733e",
   "metadata": {},
   "outputs": [],
   "source": [
    "len(internet_df.loc[(internet_df.Year == 2014) & (internet_df.Internet_Users_Pct<5)])"
   ]
  },
  {
   "cell_type": "markdown",
   "id": "ea1d274d-4839-434d-a760-cd565e20f96e",
   "metadata": {},
   "source": [
    "20. Merge the two DataFrames to one. Do this in a way that keeps **all rows** from each of the two DataFrames.\n",
    " Call the new DataFrame `gdp_and_internet_use`. \n",
    " Look at the first and last few rows to confirm that it merged correctly."
   ]
  },
  {
   "cell_type": "code",
   "execution_count": null,
   "id": "32483c01-293b-40b5-b8c8-a4522adcde72",
   "metadata": {},
   "outputs": [],
   "source": [
    "merged=pd.merge(gdp_df, internet_df, on = ['Country','Year'], how = 'outer')\n",
    "merged"
   ]
  },
  {
   "cell_type": "markdown",
   "id": "e1c2860b-615c-4736-8390-128aa22a18df",
   "metadata": {},
   "source": [
    "21. Find the three countries with the highest internet users percentage in 2014.\n",
    " Use a seaborn FacetGrid (https://seaborn.pydata.org/generated/seaborn.FacetGrid.html)"
   ]
  },
  {
   "cell_type": "code",
   "execution_count": null,
   "id": "85f11e6c-dc64-4c4c-910c-0e5383133d18",
   "metadata": {},
   "outputs": [],
   "source": [
    "top3_2014=merged.loc[merged.Year == 2014].sort_values('Internet_Users_Pct', ascending=False).head(3).Country\n",
    "top3_2014"
   ]
  },
  {
   "cell_type": "code",
   "execution_count": null,
   "id": "a31ddd41-53d0-4f74-b45f-764129a168bd",
   "metadata": {},
   "outputs": [],
   "source": [
    "top3=merged.loc[merged.Country.isin(top3_2014)]\n",
    "top3"
   ]
  },
  {
   "cell_type": "code",
   "execution_count": null,
   "id": "a982e0c3-71f7-4954-9a1d-9cc11347cb21",
   "metadata": {},
   "outputs": [],
   "source": [
    "g=sns.FacetGrid(top3, col = 'Country')\n",
    "g.map(sns.lineplot,\"Year\",\"GDP_Per_Capita\");"
   ]
  },
  {
   "cell_type": "markdown",
   "id": "04ccb179-dce8-4c8a-a452-ef0e54affbad",
   "metadata": {},
   "source": [
    "22. Subset `gdp_and_internet_use` to just the year 2014. Save this as a new dataframe named `gdp_and_internet_use_2014`."
   ]
  },
  {
   "cell_type": "code",
   "execution_count": null,
   "id": "de439a65-290e-4a3e-90c8-8d96c0d1acb0",
   "metadata": {},
   "outputs": [],
   "source": [
    "merged_2014=merged.loc[merged.Year == 2014]\n",
    "merged_2014"
   ]
  },
  {
   "cell_type": "markdown",
   "id": "2ae7db5f-fd5a-4551-bfbb-66eb63f76ee6",
   "metadata": {},
   "source": [
    "23. Create a plot which compares Internet Users Percentage and GDP per Capita for the year 2014.\n",
    "    What do you notice from this plot? If you see any unusual points, investigate them."
   ]
  },
  {
   "cell_type": "code",
   "execution_count": null,
   "id": "c18f5cc4-e7b6-4d94-93cb-32f7795b453e",
   "metadata": {},
   "outputs": [],
   "source": [
    "sns.scatterplot(x='Internet_Users_Pct', y = 'GDP_Per_Capita', data = merged_2014);"
   ]
  },
  {
   "cell_type": "markdown",
   "id": "c9875ee4-9ff8-4b50-aff1-6bf60739be92",
   "metadata": {},
   "source": [
    "24. **Stretch Question:** Use the `qcut` function from pandas (https://pandas.pydata.org/docs/reference/api/pandas.qcut.html)\n",
    " to divide countries in `gdp_per_capita_2014` into three groups based on their GDP per capita values.\n",
    " Label these groups as \"Low\", \"Medium\", and \"High\". Put these labels in a new column, named \"GDP_group\".\n"
   ]
  },
  {
   "cell_type": "code",
   "execution_count": null,
   "id": "bf5f67eb-0b09-4b8b-bfc2-fd093ed484a3",
   "metadata": {},
   "outputs": [],
   "source": [
    "merged_2014['GDP_group']=pd.qcut(merged_2014.GDP_Per_Capita, q=3, labels = ['Low', 'Medium', 'High'])\n",
    "merged_2014"
   ]
  },
  {
   "cell_type": "markdown",
   "id": "f530b4ac-396b-4dea-bcd4-b7c6c60504de",
   "metadata": {},
   "source": [
    "25. **Stretch Question:** How does the median internet users percentage compare for the three gdp groups?"
   ]
  },
  {
   "cell_type": "code",
   "execution_count": null,
   "id": "28bb54df-641b-4d5d-8a76-b0db11d7f196",
   "metadata": {},
   "outputs": [],
   "source": [
    "merged_2014.groupby('GDP_group')['Internet_Users_Pct'].median()"
   ]
  }
 ],
 "metadata": {
  "kernelspec": {
   "display_name": "Python 3 (ipykernel)",
   "language": "python",
   "name": "python3"
  },
  "language_info": {
   "codemirror_mode": {
    "name": "ipython",
    "version": 3
   },
   "file_extension": ".py",
   "mimetype": "text/x-python",
   "name": "python",
   "nbconvert_exporter": "python",
   "pygments_lexer": "ipython3",
   "version": "3.12.4"
  }
 },
 "nbformat": 4,
 "nbformat_minor": 5
}
